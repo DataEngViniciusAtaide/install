{
  "nbformat": 4,
  "nbformat_minor": 0,
  "metadata": {
    "colab": {
      "provenance": [],
      "authorship_tag": "ABX9TyNi4rIz7HVlxSeUlyS3jkg2",
      "include_colab_link": true
    },
    "kernelspec": {
      "name": "python3",
      "display_name": "Python 3"
    },
    "language_info": {
      "name": "python"
    }
  },
  "cells": [
    {
      "cell_type": "markdown",
      "metadata": {
        "id": "view-in-github",
        "colab_type": "text"
      },
      "source": [
        "<a href=\"https://colab.research.google.com/github/DataEngViniciusAtaide/install/blob/main/mongodb_docker.ipynb\" target=\"_parent\"><img src=\"https://colab.research.google.com/assets/colab-badge.svg\" alt=\"Open In Colab\"/></a>"
      ]
    },
    {
      "cell_type": "markdown",
      "source": [
        "## **Instalando o MongoDb no Docker**"
      ],
      "metadata": {
        "id": "xOigdet8uyAf"
      }
    },
    {
      "cell_type": "markdown",
      "source": [
        "**1.** Inicialmente vamos criar o volume externo que o mongo usará"
      ],
      "metadata": {
        "id": "V-5MA6Svu6Ab"
      }
    },
    {
      "cell_type": "code",
      "execution_count": null,
      "metadata": {
        "id": "EJL5-FL6uQrQ"
      },
      "outputs": [],
      "source": [
        "'''\n",
        "docker volume create mongodb_data\n",
        "docker volume create mongodb_configdb_data\n",
        "'''"
      ]
    },
    {
      "cell_type": "markdown",
      "source": [
        "**2.** Agora vamos criar a rede"
      ],
      "metadata": {
        "id": "SX7qjpXKvhI_"
      }
    },
    {
      "cell_type": "code",
      "source": [
        "'''\n",
        "docker network create --driver overlay --attachable app_network\n",
        "'''"
      ],
      "metadata": {
        "id": "t-PrkkYRvvDP"
      },
      "execution_count": null,
      "outputs": []
    },
    {
      "cell_type": "markdown",
      "source": [
        "**3.** Agora podemos executar a criação da stack do mongo."
      ],
      "metadata": {
        "id": "KZPyB5hrwSNA"
      }
    },
    {
      "cell_type": "code",
      "source": [
        "'''\n",
        "services:\n",
        "  mongodb:\n",
        "    image: mongo:6  # Verifique se a imagem está correta\n",
        "    networks:\n",
        "      - app_network\n",
        "    volumes:\n",
        "      - mongodb_data:/data/db\n",
        "      - mongodb_configdb_data:/data/configdb\n",
        "    environment:\n",
        "      MONGO_INITDB_ROOT_USERNAME: mongo\n",
        "      MONGO_INITDB_ROOT_PASSWORD: Senha@123\n",
        "    restart: unless-stopped\n",
        "    healthcheck:\n",
        "      test: [\"CMD\", \"mongo\", \"--eval\", \"db.adminCommand('ping')\"]\n",
        "      interval: 30s\n",
        "      timeout: 10s\n",
        "      retries: 5\n",
        "    deploy:\n",
        "      mode: replicated\n",
        "      replicas: 1\n",
        "      placement:\n",
        "        constraints:\n",
        "          - node.role == manager\n",
        "      resources:\n",
        "        limits:\n",
        "          cpus: \"0.5\"\n",
        "          memory: 512M\n",
        "\n",
        "volumes:\n",
        "  mongodb_data:\n",
        "    external: true\n",
        "  mongodb_configdb_data:\n",
        "    external: true\n",
        "\n",
        "networks:\n",
        "  app_network:\n",
        "    external: true\n",
        "'''"
      ],
      "metadata": {
        "id": "GerC2hsTwbyw"
      },
      "execution_count": null,
      "outputs": []
    },
    {
      "cell_type": "markdown",
      "source": [],
      "metadata": {
        "id": "M77LGMNfuxRo"
      }
    }
  ]
}